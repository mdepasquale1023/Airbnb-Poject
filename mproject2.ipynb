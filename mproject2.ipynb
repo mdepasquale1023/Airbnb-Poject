{
 "cells": [
  {
   "cell_type": "code",
   "execution_count": 249,
   "id": "01fd56b5",
   "metadata": {},
   "outputs": [],
   "source": [
    "import pandas as pd\n",
    "import numpy as np\n",
    "from datetime import datetime\n",
    "\n",
    "# Load CSV file as a DataFrame\n",
    "prices = pd.read_csv('prices.csv')\n",
    "\n",
    "# Load Excel file and its first sheet as a DataFrame\n",
    "xls = pd.read_excel('room_types.xlsx', sheet_name=0)\n",
    "room_types = pd.DataFrame(xls)\n",
    "\n",
    "# Load TSV file as a DataFrame\n",
    "reviews = pd.read_csv('reviews.tsv', sep='\\t')"
   ]
  },
  {
   "cell_type": "code",
   "execution_count": 250,
   "id": "fa311a88",
   "metadata": {},
   "outputs": [],
   "source": [
    "# Cleaning 'price' from prices\n",
    "prices['price'] = prices['price'].str.replace(' dollars', '').astype(float)"
   ]
  },
  {
   "cell_type": "code",
   "execution_count": 251,
   "id": "705ae23a",
   "metadata": {},
   "outputs": [
    {
     "data": {
      "text/plain": [
       "141.78"
      ]
     },
     "execution_count": 251,
     "metadata": {},
     "output_type": "execute_result"
    }
   ],
   "source": [
    "round(prices['price'].mean(),2)"
   ]
  },
  {
   "cell_type": "code",
   "execution_count": 252,
   "id": "655bbddf",
   "metadata": {},
   "outputs": [],
   "source": [
    "days_in_month = 30\n",
    "\n",
    "prices['price_per_month'] = prices['price']*days_in_month"
   ]
  },
  {
   "cell_type": "code",
   "execution_count": 253,
   "id": "b916f183",
   "metadata": {},
   "outputs": [],
   "source": [
    "# Cleaning the case in room_type\n",
    "room_types['room_type'] = room_types['room_type'].str.title()"
   ]
  },
  {
   "cell_type": "code",
   "execution_count": 254,
   "id": "72fc233e",
   "metadata": {},
   "outputs": [],
   "source": [
    "# Convert the 'last_review' column to datetime format\n",
    "reviews['last_review'] = pd.to_datetime(reviews['last_review'], format='%B %d %Y')\n",
    "\n",
    "# Convert the date format to MM-DD-YYYY\n",
    "reviews['last_review'] = reviews['last_review'].dt.strftime('%m-%d-%Y')"
   ]
  },
  {
   "cell_type": "code",
   "execution_count": 255,
   "id": "bea07490",
   "metadata": {},
   "outputs": [],
   "source": [
    "merge_df = pd.merge(reviews, room_types, on='listing_id')"
   ]
  },
  {
   "cell_type": "code",
   "execution_count": 256,
   "id": "5c3ca775",
   "metadata": {},
   "outputs": [],
   "source": [
    "df = pd.merge(merge_df, prices, on='listing_id')"
   ]
  },
  {
   "cell_type": "code",
   "execution_count": 257,
   "id": "051e1792",
   "metadata": {},
   "outputs": [],
   "source": [
    "# Extract the first word from each value in 'nbhood_full' column\n",
    "df['borough'] = df['nbhood_full'].str.split().str.get(0)\n",
    "\n",
    "# Remove the comma at the end of each word in 'borough' column\n",
    "df['borough'] = df['borough'].str.rstrip(',')\n",
    "\n",
    "# Remove the 'nbhood_full' column\n",
    "df = df.drop('nbhood_full', axis=1)"
   ]
  },
  {
   "cell_type": "code",
   "execution_count": 258,
   "id": "e6f0e89e",
   "metadata": {},
   "outputs": [],
   "source": [
    "# Remove rows with 0 values in the 'price' column\n",
    "prices = prices[prices['price'] != 0]"
   ]
  },
  {
   "cell_type": "code",
   "execution_count": 259,
   "id": "04b3adc8",
   "metadata": {},
   "outputs": [],
   "source": [
    "# List for new column\n",
    "conditions = [\n",
    "    (df['price'] >= 0) & (df['price'] <= 69),\n",
    "    (df['price'] >= 70) & (df['price'] <= 175),\n",
    "    (df['price'] >= 176) & (df['price'] <= 350),\n",
    "    (df['price'] > 350)\n",
    "]\n",
    "values = ['Budget', 'Average', 'Expensive', 'Extravagant']\n",
    "\n",
    "# New column based on the conditions and values\n",
    "df['price_range'] = np.select(conditions, values, default=None)"
   ]
  },
  {
   "cell_type": "code",
   "execution_count": 260,
   "id": "a3c8197e",
   "metadata": {},
   "outputs": [
    {
     "data": {
      "text/html": [
       "<div>\n",
       "<style scoped>\n",
       "    .dataframe tbody tr th:only-of-type {\n",
       "        vertical-align: middle;\n",
       "    }\n",
       "\n",
       "    .dataframe tbody tr th {\n",
       "        vertical-align: top;\n",
       "    }\n",
       "\n",
       "    .dataframe thead th {\n",
       "        text-align: right;\n",
       "    }\n",
       "</style>\n",
       "<table border=\"1\" class=\"dataframe\">\n",
       "  <thead>\n",
       "    <tr style=\"text-align: right;\">\n",
       "      <th></th>\n",
       "      <th>listing_id</th>\n",
       "      <th>host_name</th>\n",
       "      <th>last_review</th>\n",
       "      <th>description</th>\n",
       "      <th>room_type</th>\n",
       "      <th>price</th>\n",
       "      <th>price_per_month</th>\n",
       "      <th>borough</th>\n",
       "      <th>price_range</th>\n",
       "    </tr>\n",
       "  </thead>\n",
       "  <tbody>\n",
       "    <tr>\n",
       "      <th>0</th>\n",
       "      <td>2595</td>\n",
       "      <td>Jennifer</td>\n",
       "      <td>05-21-2019</td>\n",
       "      <td>Skylit Midtown Castle</td>\n",
       "      <td>Entire Home/Apt</td>\n",
       "      <td>225.0</td>\n",
       "      <td>6750.0</td>\n",
       "      <td>Manhattan</td>\n",
       "      <td>Expensive</td>\n",
       "    </tr>\n",
       "    <tr>\n",
       "      <th>1</th>\n",
       "      <td>3831</td>\n",
       "      <td>LisaRoxanne</td>\n",
       "      <td>07-05-2019</td>\n",
       "      <td>Cozy Entire Floor of Brownstone</td>\n",
       "      <td>Entire Home/Apt</td>\n",
       "      <td>89.0</td>\n",
       "      <td>2670.0</td>\n",
       "      <td>Brooklyn</td>\n",
       "      <td>Average</td>\n",
       "    </tr>\n",
       "    <tr>\n",
       "      <th>2</th>\n",
       "      <td>5099</td>\n",
       "      <td>Chris</td>\n",
       "      <td>06-22-2019</td>\n",
       "      <td>Large Cozy 1 BR Apartment In Midtown East</td>\n",
       "      <td>Entire Home/Apt</td>\n",
       "      <td>200.0</td>\n",
       "      <td>6000.0</td>\n",
       "      <td>Manhattan</td>\n",
       "      <td>Expensive</td>\n",
       "    </tr>\n",
       "    <tr>\n",
       "      <th>3</th>\n",
       "      <td>5178</td>\n",
       "      <td>Shunichi</td>\n",
       "      <td>06-24-2019</td>\n",
       "      <td>Large Furnished Room Near B'way</td>\n",
       "      <td>Private Room</td>\n",
       "      <td>79.0</td>\n",
       "      <td>2370.0</td>\n",
       "      <td>Manhattan</td>\n",
       "      <td>Average</td>\n",
       "    </tr>\n",
       "    <tr>\n",
       "      <th>4</th>\n",
       "      <td>5238</td>\n",
       "      <td>Ben</td>\n",
       "      <td>06-09-2019</td>\n",
       "      <td>Cute &amp; Cozy Lower East Side 1 bdrm</td>\n",
       "      <td>Entire Home/Apt</td>\n",
       "      <td>150.0</td>\n",
       "      <td>4500.0</td>\n",
       "      <td>Manhattan</td>\n",
       "      <td>Average</td>\n",
       "    </tr>\n",
       "    <tr>\n",
       "      <th>...</th>\n",
       "      <td>...</td>\n",
       "      <td>...</td>\n",
       "      <td>...</td>\n",
       "      <td>...</td>\n",
       "      <td>...</td>\n",
       "      <td>...</td>\n",
       "      <td>...</td>\n",
       "      <td>...</td>\n",
       "      <td>...</td>\n",
       "    </tr>\n",
       "    <tr>\n",
       "      <th>25204</th>\n",
       "      <td>36425863</td>\n",
       "      <td>Rusaa</td>\n",
       "      <td>07-07-2019</td>\n",
       "      <td>Lovely Privet Bedroom with Privet Restroom</td>\n",
       "      <td>Private Room</td>\n",
       "      <td>129.0</td>\n",
       "      <td>3870.0</td>\n",
       "      <td>Manhattan</td>\n",
       "      <td>Average</td>\n",
       "    </tr>\n",
       "    <tr>\n",
       "      <th>25205</th>\n",
       "      <td>36427429</td>\n",
       "      <td>H Ai</td>\n",
       "      <td>07-07-2019</td>\n",
       "      <td>No.2 with queen size bed</td>\n",
       "      <td>Private Room</td>\n",
       "      <td>45.0</td>\n",
       "      <td>1350.0</td>\n",
       "      <td>Queens</td>\n",
       "      <td>Budget</td>\n",
       "    </tr>\n",
       "    <tr>\n",
       "      <th>25206</th>\n",
       "      <td>36438336</td>\n",
       "      <td>Ben</td>\n",
       "      <td>07-07-2019</td>\n",
       "      <td>Seas The Moment</td>\n",
       "      <td>Private Room</td>\n",
       "      <td>235.0</td>\n",
       "      <td>7050.0</td>\n",
       "      <td>Staten</td>\n",
       "      <td>Expensive</td>\n",
       "    </tr>\n",
       "    <tr>\n",
       "      <th>25207</th>\n",
       "      <td>36442252</td>\n",
       "      <td>Blaine</td>\n",
       "      <td>07-07-2019</td>\n",
       "      <td>1B-1B apartment near by Metro</td>\n",
       "      <td>Entire Home/Apt</td>\n",
       "      <td>100.0</td>\n",
       "      <td>3000.0</td>\n",
       "      <td>Bronx</td>\n",
       "      <td>Average</td>\n",
       "    </tr>\n",
       "    <tr>\n",
       "      <th>25208</th>\n",
       "      <td>36455809</td>\n",
       "      <td>Christine</td>\n",
       "      <td>07-08-2019</td>\n",
       "      <td>Cozy Private Room in Bushwick, Brooklyn</td>\n",
       "      <td>Private Room</td>\n",
       "      <td>30.0</td>\n",
       "      <td>900.0</td>\n",
       "      <td>Brooklyn</td>\n",
       "      <td>Budget</td>\n",
       "    </tr>\n",
       "  </tbody>\n",
       "</table>\n",
       "<p>25209 rows × 9 columns</p>\n",
       "</div>"
      ],
      "text/plain": [
       "       listing_id    host_name last_review  \\\n",
       "0            2595     Jennifer  05-21-2019   \n",
       "1            3831  LisaRoxanne  07-05-2019   \n",
       "2            5099        Chris  06-22-2019   \n",
       "3            5178     Shunichi  06-24-2019   \n",
       "4            5238          Ben  06-09-2019   \n",
       "...           ...          ...         ...   \n",
       "25204    36425863        Rusaa  07-07-2019   \n",
       "25205    36427429         H Ai  07-07-2019   \n",
       "25206    36438336          Ben  07-07-2019   \n",
       "25207    36442252       Blaine  07-07-2019   \n",
       "25208    36455809    Christine  07-08-2019   \n",
       "\n",
       "                                      description        room_type  price  \\\n",
       "0                           Skylit Midtown Castle  Entire Home/Apt  225.0   \n",
       "1                 Cozy Entire Floor of Brownstone  Entire Home/Apt   89.0   \n",
       "2       Large Cozy 1 BR Apartment In Midtown East  Entire Home/Apt  200.0   \n",
       "3                 Large Furnished Room Near B'way     Private Room   79.0   \n",
       "4              Cute & Cozy Lower East Side 1 bdrm  Entire Home/Apt  150.0   \n",
       "...                                           ...              ...    ...   \n",
       "25204  Lovely Privet Bedroom with Privet Restroom     Private Room  129.0   \n",
       "25205                    No.2 with queen size bed     Private Room   45.0   \n",
       "25206                             Seas The Moment     Private Room  235.0   \n",
       "25207               1B-1B apartment near by Metro  Entire Home/Apt  100.0   \n",
       "25208     Cozy Private Room in Bushwick, Brooklyn     Private Room   30.0   \n",
       "\n",
       "       price_per_month    borough price_range  \n",
       "0               6750.0  Manhattan   Expensive  \n",
       "1               2670.0   Brooklyn     Average  \n",
       "2               6000.0  Manhattan   Expensive  \n",
       "3               2370.0  Manhattan     Average  \n",
       "4               4500.0  Manhattan     Average  \n",
       "...                ...        ...         ...  \n",
       "25204           3870.0  Manhattan     Average  \n",
       "25205           1350.0     Queens      Budget  \n",
       "25206           7050.0     Staten   Expensive  \n",
       "25207           3000.0      Bronx     Average  \n",
       "25208            900.0   Brooklyn      Budget  \n",
       "\n",
       "[25209 rows x 9 columns]"
      ]
     },
     "execution_count": 260,
     "metadata": {},
     "output_type": "execute_result"
    }
   ],
   "source": [
    "df"
   ]
  },
  {
   "cell_type": "code",
   "execution_count": 261,
   "id": "343c10b7",
   "metadata": {},
   "outputs": [
    {
     "data": {
      "text/html": [
       "<div>\n",
       "<style scoped>\n",
       "    .dataframe tbody tr th:only-of-type {\n",
       "        vertical-align: middle;\n",
       "    }\n",
       "\n",
       "    .dataframe tbody tr th {\n",
       "        vertical-align: top;\n",
       "    }\n",
       "\n",
       "    .dataframe thead th {\n",
       "        text-align: right;\n",
       "    }\n",
       "</style>\n",
       "<table border=\"1\" class=\"dataframe\">\n",
       "  <thead>\n",
       "    <tr style=\"text-align: right;\">\n",
       "      <th>price_range</th>\n",
       "      <th>Average</th>\n",
       "      <th>Budget</th>\n",
       "      <th>Expensive</th>\n",
       "      <th>Extravagant</th>\n",
       "    </tr>\n",
       "    <tr>\n",
       "      <th>borough</th>\n",
       "      <th></th>\n",
       "      <th></th>\n",
       "      <th></th>\n",
       "      <th></th>\n",
       "    </tr>\n",
       "  </thead>\n",
       "  <tbody>\n",
       "    <tr>\n",
       "      <th>Bronx</th>\n",
       "      <td>286.0</td>\n",
       "      <td>382.0</td>\n",
       "      <td>25.0</td>\n",
       "      <td>5.0</td>\n",
       "    </tr>\n",
       "    <tr>\n",
       "      <th>Brooklyn</th>\n",
       "      <td>5534.0</td>\n",
       "      <td>3207.0</td>\n",
       "      <td>1466.0</td>\n",
       "      <td>259.0</td>\n",
       "    </tr>\n",
       "    <tr>\n",
       "      <th>Manhattan</th>\n",
       "      <td>5289.0</td>\n",
       "      <td>1150.0</td>\n",
       "      <td>3073.0</td>\n",
       "      <td>810.0</td>\n",
       "    </tr>\n",
       "    <tr>\n",
       "      <th>Queens</th>\n",
       "      <td>1505.0</td>\n",
       "      <td>1632.0</td>\n",
       "      <td>291.0</td>\n",
       "      <td>28.0</td>\n",
       "    </tr>\n",
       "    <tr>\n",
       "      <th>Staten</th>\n",
       "      <td>123.0</td>\n",
       "      <td>124.0</td>\n",
       "      <td>20.0</td>\n",
       "      <td>0.0</td>\n",
       "    </tr>\n",
       "  </tbody>\n",
       "</table>\n",
       "</div>"
      ],
      "text/plain": [
       "price_range  Average  Budget  Expensive  Extravagant\n",
       "borough                                             \n",
       "Bronx          286.0   382.0       25.0          5.0\n",
       "Brooklyn      5534.0  3207.0     1466.0        259.0\n",
       "Manhattan     5289.0  1150.0     3073.0        810.0\n",
       "Queens        1505.0  1632.0      291.0         28.0\n",
       "Staten         123.0   124.0       20.0          0.0"
      ]
     },
     "execution_count": 261,
     "metadata": {},
     "output_type": "execute_result"
    }
   ],
   "source": [
    "df.groupby('borough')['price_range'].value_counts().unstack().fillna(0)"
   ]
  },
  {
   "cell_type": "code",
   "execution_count": 262,
   "id": "0966f1f5",
   "metadata": {},
   "outputs": [],
   "source": [
    "avg_price = round(prices['price'].mean(),2)"
   ]
  },
  {
   "cell_type": "code",
   "execution_count": 263,
   "id": "cd696338",
   "metadata": {},
   "outputs": [
    {
     "data": {
      "text/plain": [
       "141.82"
      ]
     },
     "execution_count": 263,
     "metadata": {},
     "output_type": "execute_result"
    }
   ],
   "source": [
    "avg_price"
   ]
  },
  {
   "cell_type": "code",
   "execution_count": null,
   "id": "fc79b839",
   "metadata": {},
   "outputs": [],
   "source": []
  }
 ],
 "metadata": {
  "kernelspec": {
   "display_name": "Python 3 (ipykernel)",
   "language": "python",
   "name": "python3"
  },
  "language_info": {
   "codemirror_mode": {
    "name": "ipython",
    "version": 3
   },
   "file_extension": ".py",
   "mimetype": "text/x-python",
   "name": "python",
   "nbconvert_exporter": "python",
   "pygments_lexer": "ipython3",
   "version": "3.10.9"
  }
 },
 "nbformat": 4,
 "nbformat_minor": 5
}
